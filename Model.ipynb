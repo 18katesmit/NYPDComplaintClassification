{
 "cells": [
  {
   "cell_type": "markdown",
   "metadata": {},
   "source": [
    "# Modeling"
   ]
  },
  {
   "cell_type": "markdown",
   "metadata": {},
   "source": [
    "This notebook takes the cleaned data from 'clean_crime.csv' and fits several models and finds which features are most important to classify the severity of a crime"
   ]
  },
  {
   "cell_type": "code",
   "execution_count": 1,
   "metadata": {},
   "outputs": [],
   "source": [
    "import numpy as np\n",
    "import pandas as pd\n",
    "from sklearn.base import TransformerMixin\n",
    "import matplotlib.pyplot as plt\n",
    "import seaborn as sns\n",
    "from sodapy import Socrata\n",
    "import datetime\n",
    "sns.set_style('whitegrid')"
   ]
  },
  {
   "cell_type": "code",
   "execution_count": 2,
   "metadata": {},
   "outputs": [],
   "source": [
    "crimes = pd.read_csv('clean_crime.csv')"
   ]
  },
  {
   "cell_type": "code",
   "execution_count": 3,
   "metadata": {},
   "outputs": [],
   "source": [
    "# these variables are numbers in the csv, but they are actually categorical data, so we cast them to strings\n",
    "\n",
    "crimes['month'] = crimes['month'].astype(str)\n",
    "crimes['time_of_day'] = crimes['time_of_day'].astype(str)\n",
    "crimes['precinct'] = crimes['precinct'].astype(str)\n",
    "crimes['city_housing'] = crimes['city_housing'].astype(str)"
   ]
  },
  {
   "cell_type": "markdown",
   "metadata": {},
   "source": [
    "Next we will impute missing values, using averages for numeric data and the most common value for categorical data."
   ]
  },
  {
   "cell_type": "code",
   "execution_count": 4,
   "metadata": {},
   "outputs": [],
   "source": [
    "class DataFrameImputer(TransformerMixin):\n",
    "\n",
    "    def __init__(self):\n",
    "        \"\"\"Impute missing values.\n",
    "\n",
    "        Columns of dtype object are imputed with the most frequent value \n",
    "        in column.\n",
    "\n",
    "        Columns of other types are imputed with mean of column.\n",
    "\n",
    "        \"\"\"\n",
    "    def fit(self, X, y=None):\n",
    "\n",
    "        self.fill = pd.Series([X[c].value_counts().index[0]\n",
    "            if X[c].dtype == np.dtype('O') else X[c].mean() for c in X],\n",
    "            index=X.columns)\n",
    "\n",
    "        return self\n",
    "\n",
    "    def transform(self, X, y=None):\n",
    "        return X.fillna(self.fill)\n",
    "\n",
    "crimes = DataFrameImputer().fit_transform(crimes)"
   ]
  },
  {
   "cell_type": "code",
   "execution_count": 5,
   "metadata": {},
   "outputs": [],
   "source": [
    "# removing the target for our X set\n",
    "\n",
    "X = crimes[['month', 'time_of_day', 'precinct', 'crime_completed', 'borough_name', 'premises',\n",
    "                  'jurisdiction_code', 'latitude', 'longitude', 'victim_age_group', 'victim_race', 'victim_sex',\n",
    "                  'suspect_age_group', 'suspect_race', 'suspect_sex', 'city_housing']]"
   ]
  },
  {
   "cell_type": "code",
   "execution_count": 6,
   "metadata": {},
   "outputs": [],
   "source": [
    "# we need to get dummy variables, but only for the categorical variables, then we recombine\n",
    "\n",
    "categorical_feature_mask = X.dtypes==object\n",
    "numerical_features_mask = X.dtypes!=object\n",
    "categorical_cols = X.columns[categorical_feature_mask].tolist()\n",
    "numerical_cols = X.columns[numerical_features_mask].tolist()\n",
    "X_cat = X[categorical_cols]\n",
    "X_cat = pd.get_dummies(X_cat)\n",
    "X = X_cat.join(X[numerical_cols])"
   ]
  },
  {
   "cell_type": "code",
   "execution_count": 7,
   "metadata": {},
   "outputs": [],
   "source": [
    "# y is our target: 'offense_level'\n",
    "\n",
    "y = crimes['offense_level']"
   ]
  },
  {
   "cell_type": "code",
   "execution_count": 8,
   "metadata": {},
   "outputs": [
    {
     "data": {
      "text/plain": [
       "MISDEMEANOR    26395\n",
       "FELONY         15634\n",
       "VIOLATION       7971\n",
       "Name: offense_level, dtype: int64"
      ]
     },
     "execution_count": 8,
     "metadata": {},
     "output_type": "execute_result"
    }
   ],
   "source": [
    "y.value_counts() "
   ]
  },
  {
   "cell_type": "markdown",
   "metadata": {},
   "source": [
    "Looks like our classes are not equally distributed, if our model isn't performing well we might consider adding weight to violations."
   ]
  },
  {
   "cell_type": "markdown",
   "metadata": {},
   "source": [
    "Time to make some models!"
   ]
  },
  {
   "cell_type": "markdown",
   "metadata": {},
   "source": [
    "Bagging:"
   ]
  },
  {
   "cell_type": "code",
   "execution_count": 9,
   "metadata": {},
   "outputs": [],
   "source": [
    "from sklearn.model_selection import cross_val_score, train_test_split\n",
    "from sklearn import metrics\n",
    "from sklearn.ensemble import BaggingClassifier, RandomForestClassifier, GradientBoostingClassifier\n",
    "from sklearn.metrics import mean_squared_error, r2_score"
   ]
  },
  {
   "cell_type": "code",
   "execution_count": 10,
   "metadata": {},
   "outputs": [],
   "source": [
    "X_train, X_test, y_train, y_test = train_test_split(X,y, random_state=426, stratify=y, test_size=.2)"
   ]
  },
  {
   "cell_type": "code",
   "execution_count": 11,
   "metadata": {},
   "outputs": [],
   "source": [
    "bag = BaggingClassifier(n_estimators=100, n_jobs=-1)\n",
    "bag.fit(X_train,y_train)\n",
    "bag_pred = bag.predict(X_test)\n",
    "\n",
    "bagging_accuracy = metrics.accuracy_score(y_test, bag_pred)"
   ]
  },
  {
   "cell_type": "code",
   "execution_count": 12,
   "metadata": {},
   "outputs": [
    {
     "name": "stdout",
     "output_type": "stream",
     "text": [
      "[[1186 1743  198]\n",
      " [ 993 3936  350]\n",
      " [ 221  956  417]]\n",
      "              precision    recall  f1-score   support\n",
      "\n",
      "      FELONY       0.49      0.38      0.43      3127\n",
      " MISDEMEANOR       0.59      0.75      0.66      5279\n",
      "   VIOLATION       0.43      0.26      0.33      1594\n",
      "\n",
      "    accuracy                           0.55     10000\n",
      "   macro avg       0.51      0.46      0.47     10000\n",
      "weighted avg       0.54      0.55      0.53     10000\n",
      "\n"
     ]
    }
   ],
   "source": [
    "print(metrics.confusion_matrix(y_test, bag_pred))\n",
    "print(metrics.classification_report(y_test, bag_pred))"
   ]
  },
  {
   "cell_type": "markdown",
   "metadata": {},
   "source": [
    "Random Forest:"
   ]
  },
  {
   "cell_type": "code",
   "execution_count": 13,
   "metadata": {},
   "outputs": [],
   "source": [
    "rf = RandomForestClassifier(n_estimators=100, n_jobs=-1, max_depth=3)\n",
    "rf.fit(X_train, y_train)\n",
    "rf_pred = rf.predict(X_test)\n",
    "\n",
    "rf_accuracy = metrics.accuracy_score(y_test, rf_pred)"
   ]
  },
  {
   "cell_type": "code",
   "execution_count": 14,
   "metadata": {},
   "outputs": [
    {
     "name": "stdout",
     "output_type": "stream",
     "text": [
      "[[ 101 3026    0]\n",
      " [  25 5254    0]\n",
      " [   0 1594    0]]\n",
      "              precision    recall  f1-score   support\n",
      "\n",
      "      FELONY       0.80      0.03      0.06      3127\n",
      " MISDEMEANOR       0.53      1.00      0.69      5279\n",
      "   VIOLATION       0.00      0.00      0.00      1594\n",
      "\n",
      "    accuracy                           0.54     10000\n",
      "   macro avg       0.44      0.34      0.25     10000\n",
      "weighted avg       0.53      0.54      0.39     10000\n",
      "\n"
     ]
    },
    {
     "name": "stderr",
     "output_type": "stream",
     "text": [
      "/Library/Frameworks/Python.framework/Versions/3.9/lib/python3.9/site-packages/sklearn/metrics/_classification.py:1308: UndefinedMetricWarning: Precision and F-score are ill-defined and being set to 0.0 in labels with no predicted samples. Use `zero_division` parameter to control this behavior.\n",
      "  _warn_prf(average, modifier, msg_start, len(result))\n",
      "/Library/Frameworks/Python.framework/Versions/3.9/lib/python3.9/site-packages/sklearn/metrics/_classification.py:1308: UndefinedMetricWarning: Precision and F-score are ill-defined and being set to 0.0 in labels with no predicted samples. Use `zero_division` parameter to control this behavior.\n",
      "  _warn_prf(average, modifier, msg_start, len(result))\n",
      "/Library/Frameworks/Python.framework/Versions/3.9/lib/python3.9/site-packages/sklearn/metrics/_classification.py:1308: UndefinedMetricWarning: Precision and F-score are ill-defined and being set to 0.0 in labels with no predicted samples. Use `zero_division` parameter to control this behavior.\n",
      "  _warn_prf(average, modifier, msg_start, len(result))\n"
     ]
    }
   ],
   "source": [
    "print(metrics.confusion_matrix(y_test, rf_pred))\n",
    "print(metrics.classification_report(y_test, rf_pred))"
   ]
  },
  {
   "cell_type": "code",
   "execution_count": 15,
   "metadata": {},
   "outputs": [
    {
     "data": {
      "image/png": "[encoded data removed]",
      "text/plain": [
       "<Figure size 432x288 with 1 Axes>"
      ]
     },
     "metadata": {},
     "output_type": "display_data"
    }
   ],
   "source": [
    "Importance = pd.DataFrame({'Importance':rf.feature_importances_*100}, index=X_train.columns)\n",
    "Importance = Importance.iloc[rf.feature_importances_ > 0,:]\n",
    "Importance = Importance.sort_values('Importance', axis=0, ascending=True)\n",
    "Importance.sort_values('Importance', axis=0, ascending=False).head(10).plot(kind='barh', color='r', )\n",
    "plt.xlabel('Variable Importance')\n",
    "plt.gca().legend_ = None"
   ]
  },
  {
   "cell_type": "markdown",
   "metadata": {},
   "source": [
    "By this, we note that 'victim_sex_D', meaning that the victim wasn't a person but in fact a business or organization, is the most important. We also note that victim and suspect gender, and to a lesser extent, race, were significant to the model. "
   ]
  },
  {
   "cell_type": "markdown",
   "metadata": {},
   "source": [
    "Gradient Boosting:"
   ]
  },
  {
   "cell_type": "code",
   "execution_count": 16,
   "metadata": {},
   "outputs": [],
   "source": [
    "gb = GradientBoostingClassifier(n_estimators=100, learning_rate=.1)\n",
    "gb.fit(X_train, y_train)\n",
    "gb_pred = gb.predict(X_test)\n",
    "\n",
    "gb_accuracy = metrics.accuracy_score(y_test, gb_pred)"
   ]
  },
  {
   "cell_type": "code",
   "execution_count": 17,
   "metadata": {},
   "outputs": [
    {
     "name": "stdout",
     "output_type": "stream",
     "text": [
      "[[ 448 2593   86]\n",
      " [ 232 4885  162]\n",
      " [  41 1290  263]]\n",
      "              precision    recall  f1-score   support\n",
      "\n",
      "      FELONY       0.62      0.14      0.23      3127\n",
      " MISDEMEANOR       0.56      0.93      0.70      5279\n",
      "   VIOLATION       0.51      0.16      0.25      1594\n",
      "\n",
      "    accuracy                           0.56     10000\n",
      "   macro avg       0.56      0.41      0.39     10000\n",
      "weighted avg       0.57      0.56      0.48     10000\n",
      "\n"
     ]
    }
   ],
   "source": [
    "print(metrics.confusion_matrix(y_test, gb_pred))\n",
    "print(metrics.classification_report(y_test, gb_pred))"
   ]
  },
  {
   "cell_type": "code",
   "execution_count": 18,
   "metadata": {},
   "outputs": [
    {
     "data": {
      "image/png": "[encoded data removed]",
      "text/plain": [
       "<Figure size 432x288 with 1 Axes>"
      ]
     },
     "metadata": {},
     "output_type": "display_data"
    }
   ],
   "source": [
    "Importance = pd.DataFrame({'Importance':gb.feature_importances_*100}, index=X_train.columns)\n",
    "Importance = Importance.iloc[gb.feature_importances_ > 0,:]\n",
    "Importance = Importance.sort_values('Importance', axis=0, ascending=True)\n",
    "Importance.sort_values('Importance', axis=0, ascending=False).head(10).plot(kind='barh', color='r', )\n",
    "plt.xlabel('Variable Importance')\n",
    "plt.gca().legend_ = None"
   ]
  },
  {
   "cell_type": "markdown",
   "metadata": {},
   "source": [
    "Once again 'victim_sex_D' was pretty high up, but this time it is overtaken by 'victim_sex_F'. Most of the same variables are present, though in different orders. Interestingly, the gradient boosting model was able to make good use of the latitude and longitude variables, indicating that location is significant in classifying the severity of crimes."
   ]
  },
  {
   "cell_type": "code",
   "execution_count": 19,
   "metadata": {},
   "outputs": [
    {
     "name": "stdout",
     "output_type": "stream",
     "text": [
      "Best overall models by highest accuracy:  [('Gradient Boosting', 0.5596), ('Bagging', 0.5539), ('Random Forest', 0.5355)] \n",
      "\n"
     ]
    }
   ],
   "source": [
    "# Comparisons\n",
    "\n",
    "def accuracy_compare_models(models):\n",
    "    return sorted(models.items(), key = lambda kv:(kv[1], kv[0]), reverse= True)\n",
    "\n",
    "accuracy = {'Bagging': bagging_accuracy, 'Random Forest': rf_accuracy, 'Gradient Boosting': gb_accuracy} \n",
    "print('Best overall models by highest accuracy: ', accuracy_compare_models(accuracy), '\\n')\n"
   ]
  },
  {
   "cell_type": "code",
   "execution_count": null,
   "metadata": {},
   "outputs": [],
   "source": []
  }
 ],
 "metadata": {
  "interpreter": {
   "hash": "351d55d282cd51e514c0d6fe427f3ad3e5606da4a43b89cda53f01815ac1e70a"
  },
  "kernelspec": {
   "display_name": "Python 3 (ipykernel)",
   "language": "python",
   "name": "python3"
  },
  "language_info": {
   "codemirror_mode": {
    "name": "ipython",
    "version": 3
   },
   "file_extension": ".py",
   "mimetype": "text/x-python",
   "name": "python",
   "nbconvert_exporter": "python",
   "pygments_lexer": "ipython3",
   "version": "3.9.7"
  }
 },
 "nbformat": 4,
 "nbformat_minor": 4
}
