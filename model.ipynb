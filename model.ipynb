{
 "cells": [
  {
   "cell_type": "code",
   "execution_count": 39,
   "source": [
    "import pandas as pd\r\n",
    "import datetime\r\n",
    "import numpy as np\r\n",
    "\r\n",
    "from sklearn.base import TransformerMixin\r\n",
    "import matplotlib.pyplot as plt\r\n",
    "import seaborn as sns\r\n",
    "sns.set_style('whitegrid')"
   ],
   "outputs": [],
   "metadata": {}
  },
  {
   "cell_type": "code",
   "execution_count": 40,
   "source": [
    "crimes = pd.read_csv('clean_crime.csv')"
   ],
   "outputs": [],
   "metadata": {}
  },
  {
   "cell_type": "code",
   "execution_count": 41,
   "source": [
    "crimes['month'] = crimes['month'].astype(str)\r\n",
    "crimes['time_of_day'] = crimes['time_of_day'].astype(str)\r\n",
    "crimes['precinct'] = crimes['precinct'].astype(str)\r\n",
    "crimes['city_housing'] = crimes['city_housing'].astype(str)\r\n",
    "\r\n"
   ],
   "outputs": [],
   "metadata": {}
  },
  {
   "cell_type": "code",
   "execution_count": 42,
   "source": [
    "class DataFrameImputer(TransformerMixin):\r\n",
    "\r\n",
    "    def __init__(self):\r\n",
    "        \"\"\"Impute missing values.\r\n",
    "\r\n",
    "        Columns of dtype object are imputed with the most frequent value \r\n",
    "        in column.\r\n",
    "\r\n",
    "        Columns of other types are imputed with mean of column.\r\n",
    "\r\n",
    "        \"\"\"\r\n",
    "    def fit(self, X, y=None):\r\n",
    "\r\n",
    "        self.fill = pd.Series([X[c].value_counts().index[0]\r\n",
    "            if X[c].dtype == np.dtype('O') else X[c].mean() for c in X],\r\n",
    "            index=X.columns)\r\n",
    "\r\n",
    "        return self\r\n",
    "\r\n",
    "    def transform(self, X, y=None):\r\n",
    "        return X.fillna(self.fill)\r\n",
    "\r\n",
    "crimes = DataFrameImputer().fit_transform(crimes)"
   ],
   "outputs": [],
   "metadata": {}
  },
  {
   "cell_type": "code",
   "execution_count": 43,
   "source": [
    "X = crimes[['month', 'time_of_day', 'precinct', 'crime_completed', 'borough_name', 'premises',\r\n",
    "                  'jurisdiction_code', 'latitude', 'longitude', 'victim_age_group', 'victim_race', 'victim_sex',\r\n",
    "                  'suspect_age_group', 'suspect_race', 'suspect_sex', 'city_housing']]"
   ],
   "outputs": [],
   "metadata": {}
  },
  {
   "cell_type": "code",
   "execution_count": 44,
   "source": [
    "categorical_feature_mask = X.dtypes==object\r\n",
    "numerical_features_mask = X.dtypes!=object\r\n",
    "categorical_cols = X.columns[categorical_feature_mask].tolist()\r\n",
    "numerical_cols = X.columns[numerical_features_mask].tolist()\r\n",
    "X_cat = X[categorical_cols]\r\n",
    "X_cat = pd.get_dummies(X_cat)\r\n",
    "X = X_cat.join(X[numerical_cols])"
   ],
   "outputs": [],
   "metadata": {}
  },
  {
   "cell_type": "code",
   "execution_count": 45,
   "source": [
    "X = pd.get_dummies(X)\r\n",
    "y = crimes['offense_level']"
   ],
   "outputs": [],
   "metadata": {}
  },
  {
   "cell_type": "code",
   "execution_count": 46,
   "source": [
    "y.value_counts()"
   ],
   "outputs": [
    {
     "output_type": "execute_result",
     "data": {
      "text/plain": [
       "MISDEMEANOR    26399\n",
       "FELONY         15635\n",
       "VIOLATION       7966\n",
       "Name: offense_level, dtype: int64"
      ]
     },
     "metadata": {},
     "execution_count": 46
    }
   ],
   "metadata": {}
  },
  {
   "cell_type": "code",
   "execution_count": 47,
   "source": [
    "from sklearn.model_selection import cross_val_score, train_test_split\r\n",
    "from sklearn import metrics\r\n",
    "from sklearn.ensemble import BaggingClassifier, RandomForestClassifier, GradientBoostingClassifier"
   ],
   "outputs": [],
   "metadata": {}
  },
  {
   "cell_type": "code",
   "execution_count": 48,
   "source": [
    "X_train, X_test, y_train, y_test = train_test_split(X,y, random_state=426, stratify=y, test_size=.2)"
   ],
   "outputs": [],
   "metadata": {}
  },
  {
   "cell_type": "code",
   "execution_count": 49,
   "source": [
    "bag = BaggingClassifier(n_estimators=100, n_jobs=-1)\r\n",
    "bag.fit(X_train,y_train)\r\n",
    "bag_pred = bag.predict(X_test)"
   ],
   "outputs": [],
   "metadata": {}
  },
  {
   "cell_type": "code",
   "execution_count": 50,
   "source": [
    "print(metrics.confusion_matrix(y_test, bag_pred))\r\n",
    "print(metrics.classification_report(y_test, bag_pred))"
   ],
   "outputs": [
    {
     "output_type": "stream",
     "name": "stdout",
     "text": [
      "[[1155 1791  181]\n",
      " [ 949 3943  388]\n",
      " [ 222  952  419]]\n",
      "              precision    recall  f1-score   support\n",
      "\n",
      "      FELONY       0.50      0.37      0.42      3127\n",
      " MISDEMEANOR       0.59      0.75      0.66      5280\n",
      "   VIOLATION       0.42      0.26      0.32      1593\n",
      "\n",
      "    accuracy                           0.55     10000\n",
      "   macro avg       0.50      0.46      0.47     10000\n",
      "weighted avg       0.53      0.55      0.53     10000\n",
      "\n"
     ]
    }
   ],
   "metadata": {}
  },
  {
   "cell_type": "code",
   "execution_count": 51,
   "source": [
    "rf = RandomForestClassifier(n_estimators=100, n_jobs=-1, max_depth=3)\r\n",
    "rf.fit(X_train, y_train)\r\n",
    "rf_pred = rf.predict(X_test)"
   ],
   "outputs": [],
   "metadata": {}
  },
  {
   "cell_type": "code",
   "execution_count": 52,
   "source": [
    "print(metrics.confusion_matrix(y_test, rf_pred))\r\n",
    "print(metrics.classification_report(y_test, rf_pred))"
   ],
   "outputs": [
    {
     "output_type": "stream",
     "name": "stdout",
     "text": [
      "[[  87 3040    0]\n",
      " [  31 5249    0]\n",
      " [   3 1590    0]]\n"
     ]
    },
    {
     "output_type": "stream",
     "name": "stderr",
     "text": [
      "C:\\Users\\bentlia0\\AppData\\Local\\Packages\\PythonSoftwareFoundation.Python.3.9_qbz5n2kfra8p0\\LocalCache\\local-packages\\Python39\\site-packages\\sklearn\\metrics\\_classification.py:1308: UndefinedMetricWarning: Precision and F-score are ill-defined and being set to 0.0 in labels with no predicted samples. Use `zero_division` parameter to control this behavior.\n",
      "  _warn_prf(average, modifier, msg_start, len(result))\n"
     ]
    },
    {
     "output_type": "stream",
     "name": "stdout",
     "text": [
      "              precision    recall  f1-score   support\n",
      "\n",
      "      FELONY       0.72      0.03      0.05      3127\n",
      " MISDEMEANOR       0.53      0.99      0.69      5280\n",
      "   VIOLATION       0.00      0.00      0.00      1593\n",
      "\n",
      "    accuracy                           0.53     10000\n",
      "   macro avg       0.42      0.34      0.25     10000\n",
      "weighted avg       0.51      0.53      0.38     10000\n",
      "\n"
     ]
    },
    {
     "output_type": "stream",
     "name": "stderr",
     "text": [
      "C:\\Users\\bentlia0\\AppData\\Local\\Packages\\PythonSoftwareFoundation.Python.3.9_qbz5n2kfra8p0\\LocalCache\\local-packages\\Python39\\site-packages\\sklearn\\metrics\\_classification.py:1308: UndefinedMetricWarning: Precision and F-score are ill-defined and being set to 0.0 in labels with no predicted samples. Use `zero_division` parameter to control this behavior.\n",
      "  _warn_prf(average, modifier, msg_start, len(result))\n",
      "C:\\Users\\bentlia0\\AppData\\Local\\Packages\\PythonSoftwareFoundation.Python.3.9_qbz5n2kfra8p0\\LocalCache\\local-packages\\Python39\\site-packages\\sklearn\\metrics\\_classification.py:1308: UndefinedMetricWarning: Precision and F-score are ill-defined and being set to 0.0 in labels with no predicted samples. Use `zero_division` parameter to control this behavior.\n",
      "  _warn_prf(average, modifier, msg_start, len(result))\n"
     ]
    }
   ],
   "metadata": {}
  },
  {
   "cell_type": "code",
   "execution_count": 53,
   "source": [
    "Importance = pd.DataFrame({'Importance':rf.feature_importances_*100}, index=X_train.columns)\r\n",
    "Importance = Importance.iloc[rf.feature_importances_ > 0,:]\r\n",
    "Importance = Importance.sort_values('Importance', axis=0, ascending=True)\r\n",
    "Importance.sort_values('Importance', axis=0, ascending=False).head(10).plot(kind='barh', color='r', )\r\n",
    "plt.xlabel('Variable Importance')\r\n",
    "plt.gca().legend_ = None"
   ],
   "outputs": [
    {
     "output_type": "display_data",
     "data": {
      "image/png": "[encoded data removed]",
      "text/plain": [
       "<Figure size 432x288 with 1 Axes>"
      ]
     },
     "metadata": {}
    }
   ],
   "metadata": {}
  },
  {
   "cell_type": "code",
   "execution_count": 54,
   "source": [
    "gb = GradientBoostingClassifier(n_estimators=100, learning_rate=.1)\r\n",
    "gb.fit(X_train, y_train)\r\n",
    "gb_pred = gb.predict(X_test)"
   ],
   "outputs": [],
   "metadata": {}
  },
  {
   "cell_type": "code",
   "execution_count": 55,
   "source": [
    "print(metrics.confusion_matrix(y_test, gb_pred))\r\n",
    "print(metrics.classification_report(y_test, gb_pred))"
   ],
   "outputs": [
    {
     "output_type": "stream",
     "name": "stdout",
     "text": [
      "[[ 432 2599   96]\n",
      " [ 239 4846  195]\n",
      " [  58 1254  281]]\n",
      "              precision    recall  f1-score   support\n",
      "\n",
      "      FELONY       0.59      0.14      0.22      3127\n",
      " MISDEMEANOR       0.56      0.92      0.69      5280\n",
      "   VIOLATION       0.49      0.18      0.26      1593\n",
      "\n",
      "    accuracy                           0.56     10000\n",
      "   macro avg       0.55      0.41      0.39     10000\n",
      "weighted avg       0.56      0.56      0.48     10000\n",
      "\n"
     ]
    }
   ],
   "metadata": {}
  },
  {
   "cell_type": "code",
   "execution_count": 56,
   "source": [
    "Importance = pd.DataFrame({'Importance':gb.feature_importances_*100}, index=X_train.columns)\r\n",
    "Importance = Importance.iloc[gb.feature_importances_ > 0,:]\r\n",
    "Importance = Importance.sort_values('Importance', axis=0, ascending=True)\r\n",
    "Importance.sort_values('Importance', axis=0, ascending=False).head(10).plot(kind='barh', color='r', )\r\n",
    "plt.xlabel('Variable Importance')\r\n",
    "plt.gca().legend_ = None"
   ],
   "outputs": [
    {
     "output_type": "display_data",
     "data": {
      "image/png": "[encoded data removed]",
      "text/plain": [
       "<Figure size 432x288 with 1 Axes>"
      ]
     },
     "metadata": {}
    }
   ],
   "metadata": {}
  }
 ],
 "metadata": {
  "orig_nbformat": 4,
  "language_info": {
   "name": "python",
   "version": "3.9.9",
   "mimetype": "text/x-python",
   "codemirror_mode": {
    "name": "ipython",
    "version": 3
   },
   "pygments_lexer": "ipython3",
   "nbconvert_exporter": "python",
   "file_extension": ".py"
  },
  "kernelspec": {
   "name": "python3",
   "display_name": "Python 3.9.9 64-bit (windows store)"
  },
  "interpreter": {
   "hash": "351d55d282cd51e514c0d6fe427f3ad3e5606da4a43b89cda53f01815ac1e70a"
  }
 },
 "nbformat": 4,
 "nbformat_minor": 2
}